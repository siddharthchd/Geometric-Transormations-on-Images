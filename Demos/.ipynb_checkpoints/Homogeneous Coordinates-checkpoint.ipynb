{
 "cells": [
  {
   "cell_type": "code",
   "execution_count": 25,
   "metadata": {},
   "outputs": [],
   "source": [
    "import numpy as np\n",
    "import math"
   ]
  },
  {
   "cell_type": "code",
   "execution_count": 1,
   "metadata": {},
   "outputs": [
    {
     "ename": "NameError",
     "evalue": "name 'np' is not defined",
     "output_type": "error",
     "traceback": [
      "\u001b[1;31m---------------------------------------------------------------------------\u001b[0m",
      "\u001b[1;31mNameError\u001b[0m                                 Traceback (most recent call last)",
      "\u001b[1;32m<ipython-input-1-3e5125fb97d9>\u001b[0m in \u001b[0;36m<module>\u001b[1;34m\u001b[0m\n\u001b[0;32m      2\u001b[0m \u001b[1;33m\u001b[0m\u001b[0m\n\u001b[0;32m      3\u001b[0m \u001b[1;31m# Translation is a vector\u001b[0m\u001b[1;33m\u001b[0m\u001b[1;33m\u001b[0m\u001b[1;33m\u001b[0m\u001b[0m\n\u001b[1;32m----> 4\u001b[1;33m \u001b[0mtranslation1\u001b[0m \u001b[1;33m=\u001b[0m \u001b[0mnp\u001b[0m\u001b[1;33m.\u001b[0m\u001b[0marray\u001b[0m\u001b[1;33m(\u001b[0m\u001b[1;33m[\u001b[0m\u001b[1;36m2\u001b[0m\u001b[1;33m,\u001b[0m\u001b[1;36m1\u001b[0m\u001b[1;33m]\u001b[0m\u001b[1;33m,\u001b[0m \u001b[0mnp\u001b[0m\u001b[1;33m.\u001b[0m\u001b[0mfloat\u001b[0m\u001b[1;33m)\u001b[0m\u001b[1;33m\u001b[0m\u001b[1;33m\u001b[0m\u001b[0m\n\u001b[0m\u001b[0;32m      5\u001b[0m \u001b[0mtranslation2\u001b[0m \u001b[1;33m=\u001b[0m \u001b[0mnp\u001b[0m\u001b[1;33m.\u001b[0m\u001b[0marray\u001b[0m\u001b[1;33m(\u001b[0m\u001b[1;33m[\u001b[0m\u001b[1;33m-\u001b[0m\u001b[1;36m5\u001b[0m\u001b[1;33m,\u001b[0m\u001b[1;36m6\u001b[0m\u001b[1;33m]\u001b[0m\u001b[1;33m,\u001b[0m \u001b[0mnp\u001b[0m\u001b[1;33m.\u001b[0m\u001b[0mfloat\u001b[0m\u001b[1;33m)\u001b[0m\u001b[1;33m\u001b[0m\u001b[1;33m\u001b[0m\u001b[0m\n\u001b[0;32m      6\u001b[0m \u001b[1;31m# Rotation is a 2x2 matrix\u001b[0m\u001b[1;33m\u001b[0m\u001b[1;33m\u001b[0m\u001b[1;33m\u001b[0m\u001b[0m\n",
      "\u001b[1;31mNameError\u001b[0m: name 'np' is not defined"
     ]
    }
   ],
   "source": [
    "# First, regular points in 2D\n",
    "\n",
    "# Translation is a vector\n",
    "translation1 = np.array([2,1], np.float)\n",
    "translation2 = np.array([-5,6], np.float)\n",
    "# Rotation is a 2x2 matrix\n",
    "rotation = np.array([[math.cos(math.pi/2), -math.sin(math.pi/2)], [math.sin(math.pi/2), math.cos(math.pi/2)]], np.float)\n",
    "# Scaling is a 2x2 matrix\n",
    "scaling = np.array([[3,0], [0, 2]], np.float)\n",
    "\n",
    "print('translation1 =', translation1)\n",
    "print('translation2 =', translation2)\n",
    "print('rotation\\n', rotation)\n",
    "print('scaling\\n', scaling)\n",
    "\n",
    "point = np.array([5,2], np.float)\n",
    "\n",
    "# Apply the sequence of transformations\n",
    "# First translate, then scale, then rotate, then translate again\n",
    "new_point = translation2 + rotation.dot(scaling.dot(point + translation1))\n",
    "\n",
    "print('')\n",
    "print('transformed point = ', new_point)"
   ]
  },
  {
   "cell_type": "code",
   "execution_count": 33,
   "metadata": {},
   "outputs": [
    {
     "name": "stdout",
     "output_type": "stream",
     "text": [
      "translation1\n",
      " [[1. 0. 2.]\n",
      " [0. 1. 1.]\n",
      " [0. 0. 1.]]\n",
      "translation2\n",
      " [[ 1.  0. -5.]\n",
      " [ 0.  1.  6.]\n",
      " [ 0.  0.  1.]]\n",
      "rotation\n",
      " [[ 6.123234e-17 -1.000000e+00  0.000000e+00]\n",
      " [ 1.000000e+00  6.123234e-17  0.000000e+00]\n",
      " [ 0.000000e+00  0.000000e+00  1.000000e+00]]\n",
      "scaling\n",
      " [[3. 0. 0.]\n",
      " [0. 2. 0.]\n",
      " [0. 0. 1.]]\n",
      "\n",
      "new point =  [-11.  27.   1.]\n",
      "\n",
      "Affine transform\n",
      " [[ 1.8369702e-16 -2.0000000e+00 -7.0000000e+00]\n",
      " [ 3.0000000e+00  1.2246468e-16  1.2000000e+01]\n",
      " [ 0.0000000e+00  0.0000000e+00  1.0000000e+00]]\n",
      "\n",
      "new point2 =  [-11.  27.   1.]\n"
     ]
    }
   ],
   "source": [
    "# Now, as homeogeneous coordinates in 3D (x,y,1)\n",
    "\n",
    "# Translation is a 3x3 matrix\n",
    "translation1 = np.array([[1, 0, 2], [0, 1, 1], [0, 0, 1]], np.float)\n",
    "translation2 = np.array([[1, 0, -5], [0, 1, 6], [0, 0, 1]], np.float)\n",
    "# Rotation is a 3x3 matrix\n",
    "rotation = np.array([[math.cos(math.pi/2), -math.sin(math.pi/2), 0], [math.sin(math.pi/2), math.cos(math.pi/2), 0], [0,0,1]], np.float)\n",
    "# Scaling is a 3x3 matrix\n",
    "scaling = np.array([[3,0,0], [0, 2,0], [0,0,1]], np.float)\n",
    "\n",
    "print('translation1\\n', translation1)\n",
    "print('translation2\\n', translation2)\n",
    "print('rotation\\n', rotation)\n",
    "print('scaling\\n', scaling)\n",
    "\n",
    "point = np.array([5,2,1], np.float)\n",
    "\n",
    "# Apply the sequence of transformations\n",
    "new_point = translation2.dot(rotation.dot(scaling.dot(translation1.dot(point))))\n",
    "\n",
    "print('')\n",
    "print('new point = ', new_point)\n",
    "\n",
    "# Combine the sequence of transformations into a single transformation by matrix multiplication\n",
    "combined = translation2.dot(rotation.dot(scaling.dot(translation1)))\n",
    "\n",
    "# Show the combined affinie matrix\n",
    "print('')\n",
    "print('Affine transform\\n', combined)\n",
    "\n",
    "# Apply the combined matrix to the point to see the result is the same\n",
    "new_point2 = combined.dot(point)\n",
    "\n",
    "print('')\n",
    "print('new point2 = ', new_point2)"
   ]
  },
  {
   "cell_type": "code",
   "execution_count": null,
   "metadata": {},
   "outputs": [],
   "source": []
  }
 ],
 "metadata": {
  "kernelspec": {
   "display_name": "Python 3",
   "language": "python",
   "name": "python3"
  },
  "language_info": {
   "codemirror_mode": {
    "name": "ipython",
    "version": 3
   },
   "file_extension": ".py",
   "mimetype": "text/x-python",
   "name": "python",
   "nbconvert_exporter": "python",
   "pygments_lexer": "ipython3",
   "version": "3.7.4"
  }
 },
 "nbformat": 4,
 "nbformat_minor": 2
}
