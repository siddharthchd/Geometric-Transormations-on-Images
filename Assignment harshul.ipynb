{
 "cells": [
  {
   "cell_type": "markdown",
   "metadata": {},
   "source": [
    "## Affine transformation"
   ]
  },
  {
   "cell_type": "code",
   "execution_count": 5,
   "metadata": {},
   "outputs": [],
   "source": [
    "import numpy as np\n",
    "import matplotlib.pyplot as plt\n",
    "from skimage import io\n",
    "from skimage.color import rgb2gray\n",
    "from scipy import signal\n",
    "import math\n",
    "from math import floor, ceil\n",
    "import matplotlib.pyplot as plt\n",
    "import matplotlib.image as mpimg"
   ]
  },
  {
   "cell_type": "markdown",
   "metadata": {},
   "source": [
    "#### Getting the pixel locations  for the image 1"
   ]
  },
  {
   "cell_type": "code",
   "execution_count": null,
   "metadata": {},
   "outputs": [],
   "source": [
    "im1_points = []\n",
    "def click_and_get_image_points(event, x, y, flags, param):\n",
    "    if (event == cv2.EVENT_LBUTTONDOWN):\n",
    "        im1_points.append([x,y])\n",
    "\n",
    "image1 = cv2.imread(\"rdj.png\", 0)\n",
    "cv2.namedWindow(\"rdj.png\")\n",
    "cv2.setMouseCallback(\"rdj.png\", click_and_get_image_points)\n",
    "while True:\n",
    "    # display the image and wait for a keypress\n",
    "    cv2.imshow(\"rdj.png\", image1)\n",
    "    key = cv2.waitKey(1) & 0xFF\n",
    "    # if the 'r' key is pressed, reset the cropping region\n",
    "    if key == ord(\"r\"):\n",
    "        image = clone.copy()\n",
    "    # if the 'c' key is pressed, break from the loop\n",
    "    elif key == ord(\"c\"):\n",
    "        break"
   ]
  },
  {
   "cell_type": "code",
   "execution_count": null,
   "metadata": {},
   "outputs": [],
   "source": [
    "im1_points = np.array([[389, 493], [570, 514], [471, 646], [365, 711], [532, 725]])\n",
    "print(im1_points)"
   ]
  },
  {
   "cell_type": "markdown",
   "metadata": {},
   "source": [
    "#### Getting the pixel locations  for the image 2"
   ]
  },
  {
   "cell_type": "code",
   "execution_count": null,
   "metadata": {},
   "outputs": [],
   "source": [
    "\n",
    "im2_points = []\n",
    "def click_and_get_image_points2(event, x, y, flags, param):\n",
    "    if (event == cv2.EVENT_LBUTTONDOWN):\n",
    "        im2_points.append([x,y])\n",
    "\n",
    "image2 = cv2.imread(\"transformedDowney.png\", 0)\n",
    "cv2.namedWindow(\"transformedDowney.png\")\n",
    "cv2.setMouseCallback(\"transformedDowney.png\", click_and_get_image_points2)\n",
    "while True:\n",
    "    # display the image and wait for a keypress\n",
    "    cv2.imshow(\"transformedDowney\", image2)\n",
    "    key = cv2.waitKey(1) & 0xFF\n",
    "    # if the 'r' key is pressed, reset the cropping region\n",
    "    if key == ord(\"r\"):\n",
    "        image = clone.copy()\n",
    "    # if the 'c' key is pressed, break from the loop\n",
    "    elif key == ord(\"c\"):\n",
    "        break\n",
    "        \n",
    "        "
   ]
  },
  {
   "cell_type": "code",
   "execution_count": null,
   "metadata": {},
   "outputs": [],
   "source": [
    "im2_points"
   ]
  },
  {
   "cell_type": "markdown",
   "metadata": {},
   "source": [
    "#### Linear system equation"
   ]
  },
  {
   "cell_type": "code",
   "execution_count": 18,
   "metadata": {},
   "outputs": [],
   "source": [
    "%matplotlib qt\n",
    "imageDowney = 'rdj.png'\n",
    "imgDowney = io.imread(imageDowney)\n",
    "imgDowney = rgb2gray(imgDowney)\n",
    "# Ensuring that the image is float\n",
    "imgDowney = ((imgDowney - np.min(imgDowney)) * (1/(np.max(imgDowney) - np.min(imgDowney)) * 1.0)).astype('float')\n",
    "fig = plt.figure(figsize=(7,7))\n",
    "img = mpimg.imread('rdj.png')\n",
    "imgplot = plt.imshow(img)\n",
    "\n",
    "im1_points = []\n",
    "\n",
    "def onclick(event):\n",
    "    im1_points.append([event.xdata, event.ydata])\n",
    "\n",
    "cid = fig.canvas.mpl_connect('button_press_event', onclick)"
   ]
  },
  {
   "cell_type": "code",
   "execution_count": 19,
   "metadata": {},
   "outputs": [
    {
     "name": "stdout",
     "output_type": "stream",
     "text": [
      "[[  1.08645717  -0.17207791  -3.71150676]\n",
      " [  0.17207791   1.08645717 -11.7249613 ]\n",
      " [  0.           0.           1.        ]]\n",
      "[[ 0.89789849  0.14221315  5.        ]\n",
      " [-0.14221315  0.89789849 10.        ]\n",
      " [ 0.          0.          1.        ]]\n",
      "[[390.61379581666785, 488.59579699691824], [573.1592026752346, 510.62713920398664], [475.5918300439317, 645.9625270474068], [365.43511900858965, 705.7618844665924], [532.2438528621076, 721.4985574716412]]\n"
     ]
    }
   ],
   "source": [
    "theta = math.pi/20.0\n",
    "rotation = np.array([[math.cos(theta), -math.sin(theta), 0], [math.sin(theta), math.cos(theta), 0], [0,0,1]])\n",
    "translation = np.array([[1, 0, -5], [0, 1, -10], [0, 0, 1]], np.float)\n",
    "scaling = np.array([[1.1,0,0], [0, 1.1,0], [0,0,1]], np.float)\n",
    "\n",
    "T = rotation.dot(scaling.dot(translation))\n",
    "Tinv = np.linalg.inv(T)\n",
    "\n",
    "\n",
    "print(T)\n",
    "print(Tinv)\n",
    "print(im1_points)"
   ]
  },
  {
   "cell_type": "code",
   "execution_count": 20,
   "metadata": {},
   "outputs": [],
   "source": [
    "[rows, cols] = imgDowney.shape\n",
    "\n",
    "transformedDowney = np.zeros((rows,cols))\n",
    "\n",
    "for i in range(0, rows):\n",
    "    for j in range(0, cols):\n",
    "        \n",
    "        currentPoint = np.array([i,j,1])\n",
    "        transformedPoint = T.dot(currentPoint)\n",
    "        newi = int(round(transformedPoint[0]))\n",
    "        newj = int(round(transformedPoint[1]))\n",
    "        \n",
    "        if (newi < 0 or newi >= rows or newj < 0 or newj >= cols):\n",
    "            continue\n",
    "            \n",
    "        transformedDowney[i,j] = imgDowney[newi, newj]\n",
    "    \n",
    "fig = plt.figure(figsize=(7,7))\n",
    "imgplot = plt.imshow(transformedDowney, cmap='gray')\n",
    "\n",
    "im2_points = []\n",
    "\n",
    "def onclick(event):\n",
    "    im2_points.append([event.xdata, event.ydata])\n",
    "\n",
    "cid = fig.canvas.mpl_connect('button_press_event', onclick)"
   ]
  },
  {
   "cell_type": "code",
   "execution_count": 21,
   "metadata": {},
   "outputs": [
    {
     "name": "stdout",
     "output_type": "stream",
     "text": [
      "[[390, 488], [573, 510], [475, 645], [365, 705], [532, 721]]\n",
      "[[289, 501], [447, 542], [337, 645], [239, 693], [381, 727]]\n"
     ]
    }
   ],
   "source": [
    "for i in range(len(im1_points)):\n",
    "    im1_points[i][0] = int(im1_points[i][0])\n",
    "    im1_points[i][1] = int(im1_points[i][1])\n",
    "for j in range(len(im2_points)):\n",
    "    im2_points[j][0] = int(im2_points[j][0]) \n",
    "    im2_points[j][1] = int(im2_points[j][1])\n",
    "    \n",
    "print(im1_points)\n",
    "print(im2_points)"
   ]
  },
  {
   "cell_type": "code",
   "execution_count": null,
   "metadata": {},
   "outputs": [],
   "source": []
  },
  {
   "cell_type": "code",
   "execution_count": null,
   "metadata": {},
   "outputs": [],
   "source": []
  },
  {
   "cell_type": "code",
   "execution_count": 22,
   "metadata": {},
   "outputs": [],
   "source": [
    "q = []\n",
    "for point in im2_points:\n",
    "    q.append([point[0]])\n",
    "    q.append([point[1]])\n",
    "    \n",
    "q = np.array(q)\n",
    "\n",
    "M = []\n",
    "for point in im1_points:\n",
    "    M.append([point[0], point[1],1,0,0,0])\n",
    "    M.append([0,0,0, point[0], point[1],1])\n",
    "    \n",
    "M = np.array(M)"
   ]
  },
  {
   "cell_type": "markdown",
   "metadata": {},
   "source": [
    "#### Solving the linear system equation"
   ]
  },
  {
   "cell_type": "code",
   "execution_count": 23,
   "metadata": {},
   "outputs": [
    {
     "name": "stderr",
     "output_type": "stream",
     "text": [
      "C:\\Users\\siddh\\Anaconda3\\lib\\site-packages\\ipykernel_launcher.py:1: FutureWarning: `rcond` parameter will change to the default of machine precision times ``max(M, N)`` where M and N are the input matrix dimensions.\n",
      "To use the future default and silence this warning we advise to pass `rcond=None`, to keep using the old, explicitly pass `rcond=-1`.\n",
      "  \"\"\"Entry point for launching an IPython kernel.\n"
     ]
    }
   ],
   "source": [
    "p = np.linalg.lstsq(M, q)[0]"
   ]
  },
  {
   "cell_type": "code",
   "execution_count": 24,
   "metadata": {},
   "outputs": [
    {
     "data": {
      "text/plain": [
       "array([[289],\n",
       "       [501],\n",
       "       [447],\n",
       "       [542],\n",
       "       [337],\n",
       "       [645],\n",
       "       [239],\n",
       "       [693],\n",
       "       [381],\n",
       "       [727]])"
      ]
     },
     "execution_count": 24,
     "metadata": {},
     "output_type": "execute_result"
    }
   ],
   "source": [
    "q"
   ]
  },
  {
   "cell_type": "code",
   "execution_count": 25,
   "metadata": {},
   "outputs": [
    {
     "data": {
      "text/plain": [
       "array([[390, 488,   1,   0,   0,   0],\n",
       "       [  0,   0,   0, 390, 488,   1],\n",
       "       [573, 510,   1,   0,   0,   0],\n",
       "       [  0,   0,   0, 573, 510,   1],\n",
       "       [475, 645,   1,   0,   0,   0],\n",
       "       [  0,   0,   0, 475, 645,   1],\n",
       "       [365, 705,   1,   0,   0,   0],\n",
       "       [  0,   0,   0, 365, 705,   1],\n",
       "       [532, 721,   1,   0,   0,   0],\n",
       "       [  0,   0,   0, 532, 721,   1]])"
      ]
     },
     "execution_count": 25,
     "metadata": {},
     "output_type": "execute_result"
    }
   ],
   "source": [
    "M"
   ]
  },
  {
   "cell_type": "markdown",
   "metadata": {},
   "source": [
    "#### Computing the transform matrix and transform inverse for backward transformation"
   ]
  },
  {
   "cell_type": "code",
   "execution_count": 26,
   "metadata": {},
   "outputs": [
    {
     "name": "stdout",
     "output_type": "stream",
     "text": [
      "T:  [[ 0.87059563 -0.14012478 18.04042776]\n",
      " [ 0.1144059   0.89407326 19.39027776]\n",
      " [ 0.          0.          1.        ]]\n",
      "Tinv:  [[  1.12545941   0.17638907 -23.72400228]\n",
      " [ -0.14401415   1.09590578 -18.6518406 ]\n",
      " [  0.           0.           1.        ]]\n"
     ]
    }
   ],
   "source": [
    "T = p.reshape((2,3))\n",
    "T = np.append(T, [[0,0,1]], axis=0)\n",
    "\n",
    "Tinv = np.linalg.inv(T)\n",
    "\n",
    "print('T: ', T)\n",
    "print('Tinv: ', Tinv)"
   ]
  },
  {
   "cell_type": "markdown",
   "metadata": {},
   "source": [
    "#### Computing the backward transformation with bilinear interpolation"
   ]
  },
  {
   "cell_type": "code",
   "execution_count": 29,
   "metadata": {},
   "outputs": [],
   "source": [
    "rows, cols = imgDowney.shape\n",
    "\n",
    "top_left = Tinv.dot(np.array([0.0, 0.0, 1.0], float))\n",
    "top_left = top_left / top_left[2]\n",
    "\n",
    "bottom_left = Tinv.dot(np.array([0.0, cols-1.0, 1.0], float))\n",
    "bottom_left = bottom_left / bottom_left[2]\n",
    "\n",
    "top_right = Tinv.dot(np.array([rows-1.0, 0.0, 1.0], float))\n",
    "top_right = top_right / top_right[2]\n",
    "\n",
    "bottom_right = Tinv.dot(np.array([rows-1.0, cols-1.0, 1.0], float))\n",
    "bottom_right = bottom_right / bottom_right[2]\n",
    "\n",
    "min_i = np.min([top_left[0], bottom_left[0], top_right[0], bottom_right[0]])\n",
    "max_i = np.max([top_left[0], bottom_left[0], top_right[0], bottom_right[0]])\n",
    "\n",
    "min_j = np.min([top_left[1], bottom_left[1], top_right[1], bottom_right[1]])\n",
    "max_j = np.max([top_left[1], bottom_left[1], top_right[1], bottom_right[1]])\n",
    "\n",
    "\n",
    "x_sampling = np.linspace(math.floor(min_i), math.ceil(max_i), math.ceil(max_i) - math.floor(min_i)+1)\n",
    "y_sampling = np.linspace(math.floor(min_j), math.ceil(max_j), math.ceil(max_j) - math.floor(min_j)+1)\n",
    "\n",
    "out_im2 = np.zeros((len(x_sampling), len(y_sampling)))\n",
    "\n",
    "for i in range(0, len(x_sampling)):\n",
    "    for j in range(0, len(y_sampling)):\n",
    "        \n",
    "        cur_pt = np.array([x_sampling[i],y_sampling[j],1.0], float)\n",
    "        transformed_pt = T.dot(cur_pt)\n",
    "        \n",
    "        transformed_pt = transformed_pt / transformed_pt[2]\n",
    "        \n",
    "        # bilinear interpolation\n",
    "        x = transformed_pt[0]\n",
    "        y = transformed_pt[1]\n",
    "        \n",
    "        x_rounded_up = int(math.ceil(x))\n",
    "        x_rounded_down = int(math.floor(x))\n",
    "        y_rounded_up = int(math.ceil(y))\n",
    "        y_rounded_down = int(math.floor(y))\n",
    "        \n",
    "        ratio_x = x - x_rounded_down\n",
    "        ratio_y = y - y_rounded_down\n",
    "        \n",
    "        try:\n",
    "            interpolate_x1 = imgDowney[x_rounded_down][y_rounded_down]*(1-ratio_x) + imgDowney[x_rounded_up][y_rounded_down]*ratio_x\n",
    "            interpolate_x2 = imgDowney[x_rounded_down][y_rounded_up]*(1-ratio_x) + imgDowney[x_rounded_up][y_rounded_up]*ratio_x\n",
    "\n",
    "            interpolate_y = interpolate_x1*(1-ratio_y) + interpolate_x2*(ratio_y)\n",
    "\n",
    "            out_im2[i,j] = interpolate_y\n",
    "        except:\n",
    "            pass\n",
    "        \n",
    "        #new_i = int(round(transformed_pt[0]))\n",
    "        #new_j = int(round(transformed_pt[1]))\n",
    "        \n",
    "        #if (new_i < 0 or new_i >= rows or new_j < 0 or new_j >= cols):\n",
    "        #    continue\n",
    "            \n",
    "        #out_im2[i,j] = image1[new_i, new_j]"
   ]
  },
  {
   "cell_type": "code",
   "execution_count": null,
   "metadata": {},
   "outputs": [],
   "source": [
    "image1_.shape"
   ]
  },
  {
   "cell_type": "code",
   "execution_count": null,
   "metadata": {},
   "outputs": [],
   "source": [
    "# Show the image\n",
    "fig1 = plt.figure(figsize = (7,7))\n",
    "plt.title('Affine transformed Image')\n",
    "plt.imshow(out_im2, cmap='gray')"
   ]
  },
  {
   "cell_type": "code",
   "execution_count": null,
   "metadata": {},
   "outputs": [],
   "source": []
  },
  {
   "cell_type": "code",
   "execution_count": null,
   "metadata": {},
   "outputs": [],
   "source": [
    "cv2.destroyAllWindows()"
   ]
  },
  {
   "cell_type": "code",
   "execution_count": null,
   "metadata": {},
   "outputs": [],
   "source": []
  }
 ],
 "metadata": {
  "kernelspec": {
   "display_name": "Python 3",
   "language": "python",
   "name": "python3"
  },
  "language_info": {
   "codemirror_mode": {
    "name": "ipython",
    "version": 3
   },
   "file_extension": ".py",
   "mimetype": "text/x-python",
   "name": "python",
   "nbconvert_exporter": "python",
   "pygments_lexer": "ipython3",
   "version": "3.7.4"
  }
 },
 "nbformat": 4,
 "nbformat_minor": 2
}
